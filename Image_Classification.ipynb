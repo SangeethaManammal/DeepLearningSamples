{
  "cells": [
    {
      "cell_type": "code",
      "execution_count": 1,
      "id": "eb3d05b9",
      "metadata": {
        "id": "eb3d05b9"
      },
      "outputs": [],
      "source": [
        "import tensorflow as tf\n",
        "from tensorflow import keras\n",
        "import matplotlib.pyplot as plt\n",
        "import numpy as np\n",
        "\n",
        "#versions\n",
        "# tensorflow 2.2.0 cudnn 7.6.5 cuda 10.1 python 3.8"
      ]
    },
    {
      "cell_type": "code",
      "execution_count": 2,
      "id": "36e1115f",
      "metadata": {
        "colab": {
          "base_uri": "https://localhost:8080/"
        },
        "id": "36e1115f",
        "outputId": "3f15e843-02a9-4cd0-e70c-dac2bd3f25a3"
      },
      "outputs": [
        {
          "output_type": "execute_result",
          "data": {
            "text/plain": [
              "[PhysicalDevice(name='/physical_device:CPU:0', device_type='CPU'),\n",
              " PhysicalDevice(name='/physical_device:GPU:0', device_type='GPU')]"
            ]
          },
          "metadata": {},
          "execution_count": 2
        }
      ],
      "source": [
        "tf.config.experimental.list_physical_devices()"
      ]
    },
    {
      "cell_type": "code",
      "execution_count": 3,
      "id": "2f2b7b31",
      "metadata": {
        "colab": {
          "base_uri": "https://localhost:8080/"
        },
        "id": "2f2b7b31",
        "outputId": "63f4ed57-35a8-423b-d436-70db2ec87363"
      },
      "outputs": [
        {
          "output_type": "execute_result",
          "data": {
            "text/plain": [
              "True"
            ]
          },
          "metadata": {},
          "execution_count": 3
        }
      ],
      "source": [
        "tf.test.is_built_with_cuda()"
      ]
    },
    {
      "cell_type": "code",
      "execution_count": 4,
      "id": "a1a02be1",
      "metadata": {
        "colab": {
          "base_uri": "https://localhost:8080/"
        },
        "id": "a1a02be1",
        "outputId": "582818c4-95cc-4bdd-c2c3-834f3a36acf4"
      },
      "outputs": [
        {
          "output_type": "stream",
          "name": "stdout",
          "text": [
            "Downloading data from https://www.cs.toronto.edu/~kriz/cifar-10-python.tar.gz\n",
            "170500096/170498071 [==============================] - 11s 0us/step\n",
            "170508288/170498071 [==============================] - 11s 0us/step\n"
          ]
        }
      ],
      "source": [
        "import numpy as np\n",
        "\n",
        "from keras.datasets import cifar10\n",
        "from keras.utils.np_utils import to_categorical   \n",
        "\n",
        "import ssl\n",
        "ssl._create_default_https_context = ssl._create_unverified_context\n",
        "\n",
        "(X_train, y_train), (X_test, y_test) = cifar10.load_data()"
      ]
    },
    {
      "cell_type": "code",
      "execution_count": 5,
      "id": "21699ae5",
      "metadata": {
        "colab": {
          "base_uri": "https://localhost:8080/"
        },
        "id": "21699ae5",
        "outputId": "7c4f5b23-5020-4fde-bc84-f086612c4e66"
      },
      "outputs": [
        {
          "output_type": "execute_result",
          "data": {
            "text/plain": [
              "(50000, 32, 32, 3)"
            ]
          },
          "metadata": {},
          "execution_count": 5
        }
      ],
      "source": [
        "X_train.shape"
      ]
    },
    {
      "cell_type": "code",
      "execution_count": 6,
      "id": "04600f35",
      "metadata": {
        "colab": {
          "base_uri": "https://localhost:8080/"
        },
        "id": "04600f35",
        "outputId": "5b3ff0b1-0275-412a-c1bb-33c31aa2d247"
      },
      "outputs": [
        {
          "output_type": "execute_result",
          "data": {
            "text/plain": [
              "(50000, 1)"
            ]
          },
          "metadata": {},
          "execution_count": 6
        }
      ],
      "source": [
        "y_train.shape"
      ]
    },
    {
      "cell_type": "code",
      "execution_count": 7,
      "id": "1d913000",
      "metadata": {
        "colab": {
          "base_uri": "https://localhost:8080/"
        },
        "id": "1d913000",
        "outputId": "799defba-9d89-4264-b030-47314733f811"
      },
      "outputs": [
        {
          "output_type": "execute_result",
          "data": {
            "text/plain": [
              "array([[6],\n",
              "       [9],\n",
              "       [9],\n",
              "       [4],\n",
              "       [1]], dtype=uint8)"
            ]
          },
          "metadata": {},
          "execution_count": 7
        }
      ],
      "source": [
        "y_train[0:5]"
      ]
    },
    {
      "cell_type": "code",
      "execution_count": 8,
      "id": "93cbe03b",
      "metadata": {
        "id": "93cbe03b"
      },
      "outputs": [],
      "source": [
        "def plot_sample(index):\n",
        "    plt.figure(figsize = (10,1))\n",
        "    plt.imshow(X_train[index])"
      ]
    },
    {
      "cell_type": "code",
      "execution_count": 9,
      "id": "64fd0446",
      "metadata": {
        "colab": {
          "base_uri": "https://localhost:8080/",
          "height": 105
        },
        "id": "64fd0446",
        "outputId": "42796788-176f-4fa9-d88d-202858095202"
      },
      "outputs": [
        {
          "output_type": "display_data",
          "data": {
            "text/plain": [
              "<Figure size 720x72 with 1 Axes>"
            ],
            "image/png": "[encoded data removed]"
          },
          "metadata": {
            "needs_background": "light"
          }
        }
      ],
      "source": [
        "plot_sample(0)"
      ]
    },
    {
      "cell_type": "code",
      "execution_count": 10,
      "id": "0fbe9856",
      "metadata": {
        "colab": {
          "base_uri": "https://localhost:8080/",
          "height": 105
        },
        "id": "0fbe9856",
        "outputId": "dba6ac92-7b41-4520-8d38-80f4a7537336"
      },
      "outputs": [
        {
          "output_type": "display_data",
          "data": {
            "text/plain": [
              "<Figure size 720x72 with 1 Axes>"
            ],
            "image/png": "[encoded data removed]"
          },
          "metadata": {
            "needs_background": "light"
          }
        }
      ],
      "source": [
        "plot_sample(1)"
      ]
    },
    {
      "cell_type": "code",
      "execution_count": 11,
      "id": "17d24058",
      "metadata": {
        "id": "17d24058"
      },
      "outputs": [],
      "source": [
        "cifar_classes = ['airplane', 'automobile', 'bird', 'cat', 'deer', 'dog', 'frog', 'horse', 'ship', 'truck']"
      ]
    },
    {
      "cell_type": "code",
      "execution_count": 12,
      "id": "b5774ae9",
      "metadata": {
        "colab": {
          "base_uri": "https://localhost:8080/",
          "height": 35
        },
        "id": "b5774ae9",
        "outputId": "f54f1b88-f4c1-4eef-c289-74bc698b1410"
      },
      "outputs": [
        {
          "output_type": "execute_result",
          "data": {
            "text/plain": [
              "'cat'"
            ],
            "application/vnd.google.colaboratory.intrinsic+json": {
              "type": "string"
            }
          },
          "metadata": {},
          "execution_count": 12
        }
      ],
      "source": [
        "cifar_classes[3]"
      ]
    },
    {
      "cell_type": "code",
      "execution_count": 13,
      "id": "11bebca2",
      "metadata": {
        "colab": {
          "base_uri": "https://localhost:8080/"
        },
        "id": "11bebca2",
        "outputId": "92615b2f-0ac8-4349-fa4c-8e4a5ff9f83c"
      },
      "outputs": [
        {
          "output_type": "execute_result",
          "data": {
            "text/plain": [
              "array([4], dtype=uint8)"
            ]
          },
          "metadata": {},
          "execution_count": 13
        }
      ],
      "source": [
        "y_train[3]"
      ]
    },
    {
      "cell_type": "code",
      "execution_count": 14,
      "id": "724846b9",
      "metadata": {
        "colab": {
          "base_uri": "https://localhost:8080/"
        },
        "id": "724846b9",
        "outputId": "07c2a25b-e7d6-4eb9-a0f6-4895a550e274"
      },
      "outputs": [
        {
          "output_type": "execute_result",
          "data": {
            "text/plain": [
              "4"
            ]
          },
          "metadata": {},
          "execution_count": 14
        }
      ],
      "source": [
        "y_train[3][0]"
      ]
    },
    {
      "cell_type": "code",
      "execution_count": 15,
      "id": "2bebcf0c",
      "metadata": {
        "colab": {
          "base_uri": "https://localhost:8080/",
          "height": 35
        },
        "id": "2bebcf0c",
        "outputId": "c3e80086-167e-4836-e82a-cebbd33d24d1"
      },
      "outputs": [
        {
          "output_type": "execute_result",
          "data": {
            "text/plain": [
              "'deer'"
            ],
            "application/vnd.google.colaboratory.intrinsic+json": {
              "type": "string"
            }
          },
          "metadata": {},
          "execution_count": 15
        }
      ],
      "source": [
        "cifar_classes[y_train[3][0]]"
      ]
    },
    {
      "cell_type": "code",
      "execution_count": 16,
      "id": "910056d7",
      "metadata": {
        "id": "910056d7"
      },
      "outputs": [],
      "source": [
        "X_train_scaled = X_train/255\n",
        "X_test_scaled = X_test/255"
      ]
    },
    {
      "cell_type": "code",
      "execution_count": null,
      "id": "c53b0439",
      "metadata": {
        "id": "c53b0439",
        "outputId": "ceb131e0-8db4-43de-b284-89ccedbc9fd4"
      },
      "outputs": [
        {
          "data": {
            "text/plain": [
              "array([[6],\n",
              "       [9],\n",
              "       [9],\n",
              "       [4],\n",
              "       [1]], dtype=uint8)"
            ]
          },
          "execution_count": 29,
          "metadata": {},
          "output_type": "execute_result"
        }
      ],
      "source": [
        "y_train[:5]"
      ]
    },
    {
      "cell_type": "code",
      "execution_count": 17,
      "id": "cc7f772f",
      "metadata": {
        "colab": {
          "base_uri": "https://localhost:8080/"
        },
        "id": "cc7f772f",
        "outputId": "5ff9c8a1-4dda-4fa3-9cf5-9360e0dfa044"
      },
      "outputs": [
        {
          "output_type": "execute_result",
          "data": {
            "text/plain": [
              "array([[0., 0., 0., 0., 0., 0., 1., 0., 0., 0.],\n",
              "       [0., 0., 0., 0., 0., 0., 0., 0., 0., 1.],\n",
              "       [0., 0., 0., 0., 0., 0., 0., 0., 0., 1.],\n",
              "       [0., 0., 0., 0., 1., 0., 0., 0., 0., 0.],\n",
              "       [0., 1., 0., 0., 0., 0., 0., 0., 0., 0.]], dtype=float32)"
            ]
          },
          "metadata": {},
          "execution_count": 17
        }
      ],
      "source": [
        "y_train_categorical = keras.utils.to_categorical(y_train,num_classes=10,dtype='float32')\n",
        "y_train_categorical[:5]"
      ]
    },
    {
      "cell_type": "code",
      "execution_count": 18,
      "id": "c46209cd",
      "metadata": {
        "colab": {
          "base_uri": "https://localhost:8080/"
        },
        "id": "c46209cd",
        "outputId": "c2faaf2e-6d1f-4106-fe59-fbaaa3de760f"
      },
      "outputs": [
        {
          "output_type": "execute_result",
          "data": {
            "text/plain": [
              "array([[0., 0., 0., 1., 0., 0., 0., 0., 0., 0.],\n",
              "       [0., 0., 0., 0., 0., 0., 0., 0., 1., 0.],\n",
              "       [0., 0., 0., 0., 0., 0., 0., 0., 1., 0.],\n",
              "       [1., 0., 0., 0., 0., 0., 0., 0., 0., 0.],\n",
              "       [0., 0., 0., 0., 0., 0., 1., 0., 0., 0.]], dtype=float32)"
            ]
          },
          "metadata": {},
          "execution_count": 18
        }
      ],
      "source": [
        "y_test_categorical = keras.utils.to_categorical(y_test,num_classes=10,dtype='float32')\n",
        "y_test_categorical[:5]"
      ]
    },
    {
      "cell_type": "code",
      "execution_count": 19,
      "id": "29430263",
      "metadata": {
        "colab": {
          "base_uri": "https://localhost:8080/"
        },
        "id": "29430263",
        "outputId": "831f4ea8-a839-4f90-c51b-f76f2f5f2ce2"
      },
      "outputs": [
        {
          "output_type": "stream",
          "name": "stdout",
          "text": [
            "Epoch 1/50\n",
            "1563/1563 [==============================] - 14s 7ms/step - loss: 1.8124 - accuracy: 0.3539\n",
            "Epoch 2/50\n",
            "1563/1563 [==============================] - 12s 7ms/step - loss: 1.6230 - accuracy: 0.4283\n",
            "Epoch 3/50\n",
            "1563/1563 [==============================] - 12s 8ms/step - loss: 1.5406 - accuracy: 0.4578\n",
            "Epoch 4/50\n",
            "1563/1563 [==============================] - 12s 7ms/step - loss: 1.4819 - accuracy: 0.4776\n",
            "Epoch 5/50\n",
            "1563/1563 [==============================] - 12s 7ms/step - loss: 1.4291 - accuracy: 0.4972\n",
            "Epoch 6/50\n",
            "1563/1563 [==============================] - 12s 7ms/step - loss: 1.3876 - accuracy: 0.5143\n",
            "Epoch 7/50\n",
            "1563/1563 [==============================] - 11s 7ms/step - loss: 1.3484 - accuracy: 0.5250\n",
            "Epoch 8/50\n",
            "1563/1563 [==============================] - 12s 7ms/step - loss: 1.3157 - accuracy: 0.5386\n",
            "Epoch 9/50\n",
            "1563/1563 [==============================] - 12s 7ms/step - loss: 1.2809 - accuracy: 0.5504\n",
            "Epoch 10/50\n",
            "1563/1563 [==============================] - 11s 7ms/step - loss: 1.2494 - accuracy: 0.5601\n",
            "Epoch 11/50\n",
            "1563/1563 [==============================] - 12s 7ms/step - loss: 1.2203 - accuracy: 0.5744\n",
            "Epoch 12/50\n",
            "1563/1563 [==============================] - 12s 7ms/step - loss: 1.1932 - accuracy: 0.5814\n",
            "Epoch 13/50\n",
            "1563/1563 [==============================] - 12s 7ms/step - loss: 1.1657 - accuracy: 0.5905\n",
            "Epoch 14/50\n",
            "1563/1563 [==============================] - 12s 8ms/step - loss: 1.1362 - accuracy: 0.6036\n",
            "Epoch 15/50\n",
            "1563/1563 [==============================] - 12s 7ms/step - loss: 1.1099 - accuracy: 0.6134\n",
            "Epoch 16/50\n",
            "1563/1563 [==============================] - 12s 7ms/step - loss: 1.0847 - accuracy: 0.6220\n",
            "Epoch 17/50\n",
            "1563/1563 [==============================] - 12s 8ms/step - loss: 1.0588 - accuracy: 0.6299\n",
            "Epoch 18/50\n",
            "1563/1563 [==============================] - 12s 8ms/step - loss: 1.0313 - accuracy: 0.6394\n",
            "Epoch 19/50\n",
            "1563/1563 [==============================] - 11s 7ms/step - loss: 1.0054 - accuracy: 0.6507\n",
            "Epoch 20/50\n",
            "1563/1563 [==============================] - 11s 7ms/step - loss: 0.9792 - accuracy: 0.6583\n",
            "Epoch 21/50\n",
            "1563/1563 [==============================] - 11s 7ms/step - loss: 0.9562 - accuracy: 0.6684\n",
            "Epoch 22/50\n",
            "1563/1563 [==============================] - 11s 7ms/step - loss: 0.9303 - accuracy: 0.6772\n",
            "Epoch 23/50\n",
            "1563/1563 [==============================] - 11s 7ms/step - loss: 0.9044 - accuracy: 0.6855\n",
            "Epoch 24/50\n",
            "1563/1563 [==============================] - 11s 7ms/step - loss: 0.8771 - accuracy: 0.6976\n",
            "Epoch 25/50\n",
            "1563/1563 [==============================] - 12s 7ms/step - loss: 0.8519 - accuracy: 0.7058\n",
            "Epoch 26/50\n",
            "1563/1563 [==============================] - 11s 7ms/step - loss: 0.8280 - accuracy: 0.7130\n",
            "Epoch 27/50\n",
            "1563/1563 [==============================] - 11s 7ms/step - loss: 0.8037 - accuracy: 0.7229\n",
            "Epoch 28/50\n",
            "1563/1563 [==============================] - 11s 7ms/step - loss: 0.7788 - accuracy: 0.7315\n",
            "Epoch 29/50\n",
            "1563/1563 [==============================] - 11s 7ms/step - loss: 0.7512 - accuracy: 0.7426\n",
            "Epoch 30/50\n",
            "1563/1563 [==============================] - 11s 7ms/step - loss: 0.7261 - accuracy: 0.7513\n",
            "Epoch 31/50\n",
            "1563/1563 [==============================] - 11s 7ms/step - loss: 0.7017 - accuracy: 0.7594\n",
            "Epoch 32/50\n",
            "1563/1563 [==============================] - 11s 7ms/step - loss: 0.6774 - accuracy: 0.7679\n",
            "Epoch 33/50\n",
            "1563/1563 [==============================] - 11s 7ms/step - loss: 0.6534 - accuracy: 0.7788\n",
            "Epoch 34/50\n",
            "1563/1563 [==============================] - 11s 7ms/step - loss: 0.6262 - accuracy: 0.7872\n",
            "Epoch 35/50\n",
            "1563/1563 [==============================] - 11s 7ms/step - loss: 0.6035 - accuracy: 0.7980\n",
            "Epoch 36/50\n",
            "1563/1563 [==============================] - 11s 7ms/step - loss: 0.5803 - accuracy: 0.8050\n",
            "Epoch 37/50\n",
            "1563/1563 [==============================] - 11s 7ms/step - loss: 0.5580 - accuracy: 0.8139\n",
            "Epoch 38/50\n",
            "1563/1563 [==============================] - 11s 7ms/step - loss: 0.5323 - accuracy: 0.8241\n",
            "Epoch 39/50\n",
            "1563/1563 [==============================] - 11s 7ms/step - loss: 0.5119 - accuracy: 0.8322\n",
            "Epoch 40/50\n",
            "1563/1563 [==============================] - 11s 7ms/step - loss: 0.4906 - accuracy: 0.8391\n",
            "Epoch 41/50\n",
            "1563/1563 [==============================] - 11s 7ms/step - loss: 0.4680 - accuracy: 0.8473\n",
            "Epoch 42/50\n",
            "1563/1563 [==============================] - 11s 7ms/step - loss: 0.4469 - accuracy: 0.8551\n",
            "Epoch 43/50\n",
            "1563/1563 [==============================] - 11s 7ms/step - loss: 0.4216 - accuracy: 0.8639\n",
            "Epoch 44/50\n",
            "1563/1563 [==============================] - 12s 7ms/step - loss: 0.4026 - accuracy: 0.8707\n",
            "Epoch 45/50\n",
            "1563/1563 [==============================] - 11s 7ms/step - loss: 0.3867 - accuracy: 0.8775\n",
            "Epoch 46/50\n",
            "1563/1563 [==============================] - 12s 8ms/step - loss: 0.3671 - accuracy: 0.8849\n",
            "Epoch 47/50\n",
            "1563/1563 [==============================] - 11s 7ms/step - loss: 0.3427 - accuracy: 0.8939\n",
            "Epoch 48/50\n",
            "1563/1563 [==============================] - 11s 7ms/step - loss: 0.3274 - accuracy: 0.8989\n",
            "Epoch 49/50\n",
            "1563/1563 [==============================] - 11s 7ms/step - loss: 0.3121 - accuracy: 0.9058\n",
            "Epoch 50/50\n",
            "1563/1563 [==============================] - 11s 7ms/step - loss: 0.2922 - accuracy: 0.9118\n"
          ]
        },
        {
          "output_type": "execute_result",
          "data": {
            "text/plain": [
              "<keras.callbacks.History at 0x7f3b6c920290>"
            ]
          },
          "metadata": {},
          "execution_count": 19
        }
      ],
      "source": [
        "model = keras.Sequential([\n",
        "    keras.layers.Flatten(input_shape = (32,32,3)),\n",
        "    keras.layers.Dense(3000,activation = 'relu'),\n",
        "    keras.layers.Dense(1000,activation = 'relu'),\n",
        "    keras.layers.Dense(10,activation = 'sigmoid')\n",
        "])\n",
        "\n",
        "model.compile(optimizer = 'SGD',\n",
        "             loss = 'categorical_crossentropy' ,\n",
        "             metrics = ['accuracy'] )\n",
        "\n",
        "model.fit(X_train_scaled,y_train_categorical,epochs=50)\n"
      ]
    },
    {
      "cell_type": "code",
      "source": [
        "cifar_classes[y_test[1][0]]"
      ],
      "metadata": {
        "colab": {
          "base_uri": "https://localhost:8080/",
          "height": 35
        },
        "id": "0WGetkSzFCcs",
        "outputId": "bb105ceb-f65d-477e-b3d3-78a92ca5f764"
      },
      "id": "0WGetkSzFCcs",
      "execution_count": 27,
      "outputs": [
        {
          "output_type": "execute_result",
          "data": {
            "text/plain": [
              "'ship'"
            ],
            "application/vnd.google.colaboratory.intrinsic+json": {
              "type": "string"
            }
          },
          "metadata": {},
          "execution_count": 27
        }
      ]
    },
    {
      "cell_type": "code",
      "source": [
        "cifar_classes[np.argmax(model.predict(X_test_scaled)[1])]"
      ],
      "metadata": {
        "colab": {
          "base_uri": "https://localhost:8080/",
          "height": 35
        },
        "id": "8uDLCOI7Fh6n",
        "outputId": "63573fbc-4acb-4f3c-92fe-469fa1eb1cba"
      },
      "id": "8uDLCOI7Fh6n",
      "execution_count": 28,
      "outputs": [
        {
          "output_type": "execute_result",
          "data": {
            "text/plain": [
              "'ship'"
            ],
            "application/vnd.google.colaboratory.intrinsic+json": {
              "type": "string"
            }
          },
          "metadata": {},
          "execution_count": 28
        }
      ]
    },
    {
      "cell_type": "code",
      "source": [
        "def get_model():\n",
        "  model = keras.Sequential([\n",
        "    keras.layers.Flatten(input_shape = (32,32,3)),\n",
        "    keras.layers.Dense(3000,activation = 'relu'),\n",
        "    keras.layers.Dense(1000,activation = 'relu'),\n",
        "    keras.layers.Dense(10,activation = 'sigmoid')\n",
        "  ])\n",
        "\n",
        "  model.compile(optimizer = 'SGD',\n",
        "             loss = 'categorical_crossentropy' ,\n",
        "             metrics = ['accuracy'] )\n",
        "\n",
        "  return model"
      ],
      "metadata": {
        "id": "0Rk4KXwfGoZS"
      },
      "id": "0Rk4KXwfGoZS",
      "execution_count": 30,
      "outputs": []
    },
    {
      "cell_type": "code",
      "source": [
        "%%timeit -n1 -r1\n",
        "with tf.device('/CPU:0'):\n",
        "  cpu_model = get_model()\n",
        "  cpu_model.fit(X_train_scaled,y_train_categorical,1)"
      ],
      "metadata": {
        "colab": {
          "base_uri": "https://localhost:8080/"
        },
        "id": "S5QyNvDUHHQ2",
        "outputId": "920d1fe6-bcff-47fe-eeb2-6f423c6b281c"
      },
      "id": "S5QyNvDUHHQ2",
      "execution_count": 31,
      "outputs": [
        {
          "output_type": "stream",
          "name": "stdout",
          "text": [
            "50000/50000 [==============================] - 1641s 33ms/step - loss: 1.9110 - accuracy: 0.3047\n",
            "1 loop, best of 1: 27min 22s per loop\n"
          ]
        }
      ]
    },
    {
      "cell_type": "code",
      "source": [
        "%%timeit -n1 -r1\n",
        "with tf.device('/GPU:0'):\n",
        "  gpu_model = get_model()\n",
        "  gpu_model.fit(X_train_scaled,y_train_categorical,1)"
      ],
      "metadata": {
        "colab": {
          "base_uri": "https://localhost:8080/"
        },
        "id": "TKU6lf4RIH31",
        "outputId": "af4899b6-65f7-4aa5-bff9-635494e62dbe"
      },
      "id": "TKU6lf4RIH31",
      "execution_count": 32,
      "outputs": [
        {
          "output_type": "stream",
          "name": "stdout",
          "text": [
            "50000/50000 [==============================] - 256s 5ms/step - loss: 1.9156 - accuracy: 0.3037\n",
            "1 loop, best of 1: 4min 23s per loop\n"
          ]
        }
      ]
    }
  ],
  "metadata": {
    "kernelspec": {
      "display_name": "Python 3",
      "language": "python",
      "name": "python3"
    },
    "language_info": {
      "codemirror_mode": {
        "name": "ipython",
        "version": 3
      },
      "file_extension": ".py",
      "mimetype": "text/x-python",
      "name": "python",
      "nbconvert_exporter": "python",
      "pygments_lexer": "ipython3",
      "version": "3.8.8"
    },
    "colab": {
      "name": "Image Classification.ipynb",
      "provenance": []
    },
    "accelerator": "GPU"
  },
  "nbformat": 4,
  "nbformat_minor": 5
}