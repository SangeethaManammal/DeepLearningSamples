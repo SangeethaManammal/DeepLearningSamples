{
 "cells": [
  {
   "cell_type": "code",
   "execution_count": 1,
   "id": "040d5980",
   "metadata": {},
   "outputs": [],
   "source": [
    "import numpy as np\n",
    "from tensorflow.keras.preprocessing.text import one_hot\n",
    "from tensorflow.keras.preprocessing.sequence import pad_sequences\n",
    "from tensorflow.keras.models import Sequential\n",
    "from tensorflow.keras.layers import Dense\n",
    "from tensorflow.keras.layers import Flatten\n",
    "from tensorflow.keras.layers import Embedding"
   ]
  },
  {
   "cell_type": "code",
   "execution_count": 2,
   "id": "f3a32b3c",
   "metadata": {},
   "outputs": [],
   "source": [
    "reviews = ['nice food',\n",
    "           'amazing restaurant',\n",
    "           'too good',\n",
    "           'just loved it',\n",
    "           'will go again',\n",
    "           'horrible food',\n",
    "           'never go there',\n",
    "           'poor service',\n",
    "           'poor quality',\n",
    "           'need improvement']\n",
    "sentiment = np.array([1,1,1,1,1,0,0,0,0,0])"
   ]
  },
  {
   "cell_type": "code",
   "execution_count": 6,
   "id": "44d7ddbd",
   "metadata": {},
   "outputs": [
    {
     "data": {
      "text/plain": [
       "[28, 2]"
      ]
     },
     "execution_count": 6,
     "metadata": {},
     "output_type": "execute_result"
    }
   ],
   "source": [
    "one_hot(reviews[1],30)"
   ]
  },
  {
   "cell_type": "code",
   "execution_count": 7,
   "id": "2e6d61b0",
   "metadata": {},
   "outputs": [
    {
     "data": {
      "text/plain": [
       "[[20, 28],\n",
       " [28, 2],\n",
       " [12, 20],\n",
       " [15, 21, 13],\n",
       " [27, 20, 3],\n",
       " [2, 28],\n",
       " [6, 20, 4],\n",
       " [16, 18],\n",
       " [16, 28],\n",
       " [8, 13]]"
      ]
     },
     "execution_count": 7,
     "metadata": {},
     "output_type": "execute_result"
    }
   ],
   "source": [
    "vocab_size = 30\n",
    "\n",
    "encoded_reviews = [one_hot(d,vocab_size) for d in reviews]\n",
    "encoded_reviews"
   ]
  },
  {
   "cell_type": "code",
   "execution_count": 8,
   "id": "7590ee8e",
   "metadata": {},
   "outputs": [
    {
     "data": {
      "text/plain": [
       "array([[20, 28,  0],\n",
       "       [28,  2,  0],\n",
       "       [12, 20,  0],\n",
       "       [15, 21, 13],\n",
       "       [27, 20,  3],\n",
       "       [ 2, 28,  0],\n",
       "       [ 6, 20,  4],\n",
       "       [16, 18,  0],\n",
       "       [16, 28,  0],\n",
       "       [ 8, 13,  0]])"
      ]
     },
     "execution_count": 8,
     "metadata": {},
     "output_type": "execute_result"
    }
   ],
   "source": [
    "max_length = 3\n",
    "padded_reviews = pad_sequences(encoded_reviews, maxlen = max_length, padding = 'post')\n",
    "padded_reviews"
   ]
  },
  {
   "cell_type": "code",
   "execution_count": 9,
   "id": "6daedc53",
   "metadata": {},
   "outputs": [],
   "source": [
    "embedded_vector_size = 5\n",
    "\n",
    "model = Sequential()\n",
    "model.add(Embedding(vocab_size,embedded_vector_size, input_length = max_length, name='embedding'))\n",
    "model.add(Flatten())\n",
    "model.add(Dense(1,activation = 'sigmoid'))"
   ]
  },
  {
   "cell_type": "code",
   "execution_count": 10,
   "id": "999ea6b9",
   "metadata": {},
   "outputs": [],
   "source": [
    "x = padded_reviews\n",
    "y = sentiment\n",
    "\n"
   ]
  },
  {
   "cell_type": "code",
   "execution_count": 11,
   "id": "164d193e",
   "metadata": {},
   "outputs": [],
   "source": [
    "model.compile(optimizer = 'adam', loss = 'binary_crossentropy' , metrics = ['accuracy'])"
   ]
  },
  {
   "cell_type": "code",
   "execution_count": 12,
   "id": "e5b93f21",
   "metadata": {},
   "outputs": [
    {
     "name": "stdout",
     "output_type": "stream",
     "text": [
      "Model: \"sequential\"\n",
      "_________________________________________________________________\n",
      " Layer (type)                Output Shape              Param #   \n",
      "=================================================================\n",
      " embedding (Embedding)       (None, 3, 5)              150       \n",
      "                                                                 \n",
      " flatten (Flatten)           (None, 15)                0         \n",
      "                                                                 \n",
      " dense (Dense)               (None, 1)                 16        \n",
      "                                                                 \n",
      "=================================================================\n",
      "Total params: 166\n",
      "Trainable params: 166\n",
      "Non-trainable params: 0\n",
      "_________________________________________________________________\n"
     ]
    }
   ],
   "source": [
    "model.summary()"
   ]
  },
  {
   "cell_type": "code",
   "execution_count": 13,
   "id": "5150a4a5",
   "metadata": {},
   "outputs": [
    {
     "data": {
      "text/plain": [
       "<keras.callbacks.History at 0x275f1303e80>"
      ]
     },
     "execution_count": 13,
     "metadata": {},
     "output_type": "execute_result"
    }
   ],
   "source": [
    "model.fit(x,y,epochs = 50 , verbose = 0)"
   ]
  },
  {
   "cell_type": "code",
   "execution_count": 14,
   "id": "25551630",
   "metadata": {},
   "outputs": [
    {
     "name": "stdout",
     "output_type": "stream",
     "text": [
      "1/1 [==============================] - 1s 636ms/step - loss: 0.6235 - accuracy: 0.9000\n"
     ]
    },
    {
     "data": {
      "text/plain": [
       "0.8999999761581421"
      ]
     },
     "execution_count": 14,
     "metadata": {},
     "output_type": "execute_result"
    }
   ],
   "source": [
    "loss,accuracy = model.evaluate(x,y)\n",
    "accuracy"
   ]
  },
  {
   "cell_type": "code",
   "execution_count": 16,
   "id": "cf6cb10f",
   "metadata": {},
   "outputs": [
    {
     "data": {
      "text/plain": [
       "30"
      ]
     },
     "execution_count": 16,
     "metadata": {},
     "output_type": "execute_result"
    }
   ],
   "source": [
    "len(model.get_layer('embedding').get_weights()[0])"
   ]
  }
 ],
 "metadata": {
  "kernelspec": {
   "display_name": "Python 3",
   "language": "python",
   "name": "python3"
  },
  "language_info": {
   "codemirror_mode": {
    "name": "ipython",
    "version": 3
   },
   "file_extension": ".py",
   "mimetype": "text/x-python",
   "name": "python",
   "nbconvert_exporter": "python",
   "pygments_lexer": "ipython3",
   "version": "3.8.8"
  }
 },
 "nbformat": 4,
 "nbformat_minor": 5
}
